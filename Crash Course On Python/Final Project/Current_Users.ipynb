{
 "cells": [
  {
   "cell_type": "code",
   "execution_count": 22,
   "id": "4a780eaf-34e2-4634-9029-f919b097497a",
   "metadata": {},
   "outputs": [],
   "source": [
    "def get_event_date(event):\n",
    "    return event.date\n",
    "\n",
    "def current_users(events):\n",
    "    events.sort(key=get_event_date)\n",
    "    machines = {}\n",
    "    for event in events:\n",
    "        if event.machine not in machines:\n",
    "            machines[event.machine] = set()\n",
    "        if event.type == \"login\":\n",
    "            machines[event.machine].add(event.user)\n",
    "        elif event.type == \"logout\":\n",
    "            machines[event.machine].remove(event.user)\n",
    "    return machines\n",
    "\n",
    "def generate_report(machines):\n",
    "    for machine, users in machines.items():\n",
    "        if len(users) > 0:\n",
    "            user_list = \", \".join(users)\n",
    "            print(\"{}: {}\".format(machine, user_list))\n"
   ]
  },
  {
   "cell_type": "markdown",
   "id": "9c459137-1ac4-4f15-a23c-14504be12acd",
   "metadata": {},
   "source": [
    "To use this code, we will use the following an Event Class:"
   ]
  },
  {
   "cell_type": "code",
   "execution_count": 23,
   "id": "2273b270-80d9-4bb2-a802-6b5269ca94cd",
   "metadata": {},
   "outputs": [],
   "source": [
    "class Event:\n",
    "    def __init__(self, event_date, event_type, machine_name, user):\n",
    "        self.date = event_date\n",
    "        self.type = event_type\n",
    "        self.machine = machine_name\n",
    "        self.user = user\n"
   ]
  },
  {
   "cell_type": "markdown",
   "id": "8c531f66-a4f1-40ba-9414-4c955b8f7dcb",
   "metadata": {},
   "source": [
    "And here are the some sample events to check that the code runs correctly:"
   ]
  },
  {
   "cell_type": "code",
   "execution_count": 24,
   "id": "0c017b8b-1e5a-4d31-9130-c7593b575f54",
   "metadata": {},
   "outputs": [],
   "source": [
    "events = [\n",
    "    Event('2020-01-21 12:45:56', 'login', 'myworkstation.local', 'Jordan'),\n",
    "    Event('2020-01-22 15:53:42', 'logout', 'webserver.local', 'Jordan'),\n",
    "    Event('2020-01-21 18:58:21', 'login', 'webserver.local', 'Lane'),\n",
    "    Event('2020-01-22 10:25:34', 'logout', 'myworkstation.local', 'Jordan'),\n",
    "    Event('2020-01-21 08:20:01', 'login', 'webserver.local', 'Jordan'),\n",
    "    Event('2020-01-23 11:24:35', 'login', 'mailserver.local', 'Chris'),\n",
    "]"
   ]
  },
  {
   "cell_type": "code",
   "execution_count": 25,
   "id": "70f07384-387c-4240-a9bc-d91b878a0392",
   "metadata": {},
   "outputs": [
    {
     "name": "stdout",
     "output_type": "stream",
     "text": [
      "{'webserver.local': {'Lane'}, 'myworkstation.local': set(), 'mailserver.local': {'Chris'}}\n"
     ]
    }
   ],
   "source": [
    "users = current_users(events)\n",
    "print(users)"
   ]
  },
  {
   "cell_type": "code",
   "execution_count": 26,
   "id": "3e21b6c7-8d31-45e4-991f-0a29cab5e688",
   "metadata": {},
   "outputs": [
    {
     "name": "stdout",
     "output_type": "stream",
     "text": [
      "webserver.local: Lane\n",
      "mailserver.local: Chris\n"
     ]
    }
   ],
   "source": [
    "generate_report(users)"
   ]
  },
  {
   "cell_type": "code",
   "execution_count": null,
   "id": "912df871-0205-450e-8690-5064c793e90a",
   "metadata": {},
   "outputs": [],
   "source": []
  }
 ],
 "metadata": {
  "kernelspec": {
   "display_name": "Python 3 (ipykernel)",
   "language": "python",
   "name": "python3"
  },
  "language_info": {
   "codemirror_mode": {
    "name": "ipython",
    "version": 3
   },
   "file_extension": ".py",
   "mimetype": "text/x-python",
   "name": "python",
   "nbconvert_exporter": "python",
   "pygments_lexer": "ipython3",
   "version": "3.11.9"
  }
 },
 "nbformat": 4,
 "nbformat_minor": 5
}
